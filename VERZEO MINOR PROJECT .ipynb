{
 "cells": [
  {
   "cell_type": "markdown",
   "id": "5825e6a7",
   "metadata": {},
   "source": [
    "------>>>>  MINOR PROJECT \n",
    "\n",
    "\n",
    "Problem statement: Create a classification model to predict whether price range of mobile based on certain specifications\n",
    "\n",
    "Context: An entrepreneur has started his own mobile company. He wants to give tough fight to big companies like Apple, Samsung etc.\n",
    "He does not know how to estimate price of mobiles his company creates. In this competitive mobile phone market, one cannot simply assume things. To solve this problem, he collects sales data of mobile phones of various companies.\n",
    "He wants to find out some relation between features of a mobile phone (e.g., RAM, Internal Memory etc) and its selling price. But he is not so good at Machine Learning. So, he needs your help to solve this problem.\n",
    "In this problem you do not have to predict actual price but a price range indicating how high the price is\n",
    "Dataset: ‘mobile_price_range_data.csv’. Shared with this project\n",
    "Details of features:\n",
    "\n",
    "The columns are described as follows:\n",
    "\n",
    "Dataset as 21 features and 2000 entries.\n",
    "The meanings of the features are given below.\n",
    "\n",
    "\n",
    "battery_power: Total energy a battery can store in one time measured in mAh\n",
    "blue: Has bluetooth or not\n",
    "clock_speed: speed at which microprocessor executes instructions\n",
    "dual_sim: Has dual sim support or not\n",
    "fc: Front Camera mega pixels\n",
    "four_g: Has 4G or not\n",
    "int_memory: Internal Memory in Gigabytes\n",
    "m_dep: Mobile Depth in cm\n",
    "mobile_wt: Weight of mobile phone\n",
    "n_cores: Number of cores of processor\n",
    "pc: Primary Camera mega pixels\n",
    "px_height: Pixel Resolution Height\n",
    "px_width: Pixel Resolution Width\n",
    "ram: Random Access Memory in Mega Bytes\n",
    "sc_h: Screen Height of mobile in cm\n",
    "sc_w: Screen Width of mobile in cm\n",
    "talk_time: longest time that a single battery charge will last when you are\n",
    "three_g: Has 3G or not\n",
    "touch_screen: Has touch screen or not\n",
    "wifi: Has wifi or not\n",
    "price_range: This is the target variable with value of 0(low cost), 1(medium cost), 2(high cost) and 3(very high cost).\n",
    "\n",
    "Steps to consider:\n",
    "\n",
    "Remove handle null values (if any).\n",
    "\n",
    "Split data into training and test data.\n",
    "\n",
    "Apply the following models on the training dataset and generate the predicted value for the test dataset\n",
    "a) Logistic Regression \n",
    "b) KNN Classification\n",
    "c) SVM Classifier with linear and rbf kernel\n",
    "\n",
    "Predict the price range for test data\n",
    "\n",
    "Compute Confusion matrix and classification report for each of these models.\n",
    "\n",
    "Report the model with the best accuracy.\n"
   ]
  },
  {
   "cell_type": "markdown",
   "id": "7f3733f2",
   "metadata": {},
   "source": [
    "------>>>>  MODEL_1 :- LOGISTIC REGRESSION"
   ]
  },
  {
   "cell_type": "code",
   "execution_count": 1,
   "id": "8f4328e4",
   "metadata": {},
   "outputs": [
    {
     "data": {
      "text/html": [
       "<div>\n",
       "<style scoped>\n",
       "    .dataframe tbody tr th:only-of-type {\n",
       "        vertical-align: middle;\n",
       "    }\n",
       "\n",
       "    .dataframe tbody tr th {\n",
       "        vertical-align: top;\n",
       "    }\n",
       "\n",
       "    .dataframe thead th {\n",
       "        text-align: right;\n",
       "    }\n",
       "</style>\n",
       "<table border=\"1\" class=\"dataframe\">\n",
       "  <thead>\n",
       "    <tr style=\"text-align: right;\">\n",
       "      <th></th>\n",
       "      <th>battery_power</th>\n",
       "      <th>blue</th>\n",
       "      <th>clock_speed</th>\n",
       "      <th>dual_sim</th>\n",
       "      <th>fc</th>\n",
       "      <th>four_g</th>\n",
       "      <th>int_memory</th>\n",
       "      <th>m_dep</th>\n",
       "      <th>mobile_wt</th>\n",
       "      <th>n_cores</th>\n",
       "      <th>...</th>\n",
       "      <th>px_height</th>\n",
       "      <th>px_width</th>\n",
       "      <th>ram</th>\n",
       "      <th>sc_h</th>\n",
       "      <th>sc_w</th>\n",
       "      <th>talk_time</th>\n",
       "      <th>three_g</th>\n",
       "      <th>touch_screen</th>\n",
       "      <th>wifi</th>\n",
       "      <th>price_range</th>\n",
       "    </tr>\n",
       "  </thead>\n",
       "  <tbody>\n",
       "    <tr>\n",
       "      <th>0</th>\n",
       "      <td>842</td>\n",
       "      <td>0</td>\n",
       "      <td>2.2</td>\n",
       "      <td>0</td>\n",
       "      <td>1</td>\n",
       "      <td>0</td>\n",
       "      <td>7</td>\n",
       "      <td>0.6</td>\n",
       "      <td>188</td>\n",
       "      <td>2</td>\n",
       "      <td>...</td>\n",
       "      <td>20</td>\n",
       "      <td>756</td>\n",
       "      <td>2549</td>\n",
       "      <td>9</td>\n",
       "      <td>7</td>\n",
       "      <td>19</td>\n",
       "      <td>0</td>\n",
       "      <td>0</td>\n",
       "      <td>1</td>\n",
       "      <td>1</td>\n",
       "    </tr>\n",
       "    <tr>\n",
       "      <th>1</th>\n",
       "      <td>1021</td>\n",
       "      <td>1</td>\n",
       "      <td>0.5</td>\n",
       "      <td>1</td>\n",
       "      <td>0</td>\n",
       "      <td>1</td>\n",
       "      <td>53</td>\n",
       "      <td>0.7</td>\n",
       "      <td>136</td>\n",
       "      <td>3</td>\n",
       "      <td>...</td>\n",
       "      <td>905</td>\n",
       "      <td>1988</td>\n",
       "      <td>2631</td>\n",
       "      <td>17</td>\n",
       "      <td>3</td>\n",
       "      <td>7</td>\n",
       "      <td>1</td>\n",
       "      <td>1</td>\n",
       "      <td>0</td>\n",
       "      <td>2</td>\n",
       "    </tr>\n",
       "    <tr>\n",
       "      <th>2</th>\n",
       "      <td>563</td>\n",
       "      <td>1</td>\n",
       "      <td>0.5</td>\n",
       "      <td>1</td>\n",
       "      <td>2</td>\n",
       "      <td>1</td>\n",
       "      <td>41</td>\n",
       "      <td>0.9</td>\n",
       "      <td>145</td>\n",
       "      <td>5</td>\n",
       "      <td>...</td>\n",
       "      <td>1263</td>\n",
       "      <td>1716</td>\n",
       "      <td>2603</td>\n",
       "      <td>11</td>\n",
       "      <td>2</td>\n",
       "      <td>9</td>\n",
       "      <td>1</td>\n",
       "      <td>1</td>\n",
       "      <td>0</td>\n",
       "      <td>2</td>\n",
       "    </tr>\n",
       "    <tr>\n",
       "      <th>3</th>\n",
       "      <td>615</td>\n",
       "      <td>1</td>\n",
       "      <td>2.5</td>\n",
       "      <td>0</td>\n",
       "      <td>0</td>\n",
       "      <td>0</td>\n",
       "      <td>10</td>\n",
       "      <td>0.8</td>\n",
       "      <td>131</td>\n",
       "      <td>6</td>\n",
       "      <td>...</td>\n",
       "      <td>1216</td>\n",
       "      <td>1786</td>\n",
       "      <td>2769</td>\n",
       "      <td>16</td>\n",
       "      <td>8</td>\n",
       "      <td>11</td>\n",
       "      <td>1</td>\n",
       "      <td>0</td>\n",
       "      <td>0</td>\n",
       "      <td>2</td>\n",
       "    </tr>\n",
       "    <tr>\n",
       "      <th>4</th>\n",
       "      <td>1821</td>\n",
       "      <td>1</td>\n",
       "      <td>1.2</td>\n",
       "      <td>0</td>\n",
       "      <td>13</td>\n",
       "      <td>1</td>\n",
       "      <td>44</td>\n",
       "      <td>0.6</td>\n",
       "      <td>141</td>\n",
       "      <td>2</td>\n",
       "      <td>...</td>\n",
       "      <td>1208</td>\n",
       "      <td>1212</td>\n",
       "      <td>1411</td>\n",
       "      <td>8</td>\n",
       "      <td>2</td>\n",
       "      <td>15</td>\n",
       "      <td>1</td>\n",
       "      <td>1</td>\n",
       "      <td>0</td>\n",
       "      <td>1</td>\n",
       "    </tr>\n",
       "  </tbody>\n",
       "</table>\n",
       "<p>5 rows × 21 columns</p>\n",
       "</div>"
      ],
      "text/plain": [
       "   battery_power  blue  clock_speed  dual_sim  fc  four_g  int_memory  m_dep  \\\n",
       "0            842     0          2.2         0   1       0           7    0.6   \n",
       "1           1021     1          0.5         1   0       1          53    0.7   \n",
       "2            563     1          0.5         1   2       1          41    0.9   \n",
       "3            615     1          2.5         0   0       0          10    0.8   \n",
       "4           1821     1          1.2         0  13       1          44    0.6   \n",
       "\n",
       "   mobile_wt  n_cores  ...  px_height  px_width   ram  sc_h  sc_w  talk_time  \\\n",
       "0        188        2  ...         20       756  2549     9     7         19   \n",
       "1        136        3  ...        905      1988  2631    17     3          7   \n",
       "2        145        5  ...       1263      1716  2603    11     2          9   \n",
       "3        131        6  ...       1216      1786  2769    16     8         11   \n",
       "4        141        2  ...       1208      1212  1411     8     2         15   \n",
       "\n",
       "   three_g  touch_screen  wifi  price_range  \n",
       "0        0             0     1            1  \n",
       "1        1             1     0            2  \n",
       "2        1             1     0            2  \n",
       "3        1             0     0            2  \n",
       "4        1             1     0            1  \n",
       "\n",
       "[5 rows x 21 columns]"
      ]
     },
     "execution_count": 1,
     "metadata": {},
     "output_type": "execute_result"
    }
   ],
   "source": [
    "import pandas as pd\n",
    "import numpy as np \n",
    "import matplotlib.pyplot as plt\n",
    "mobile_dataset = pd.read_csv(\"D:\\datascience\\mobile_price_range_data.csv\")\n",
    "mobile_dataset.head()"
   ]
  },
  {
   "cell_type": "code",
   "execution_count": 2,
   "id": "3ce919a3",
   "metadata": {},
   "outputs": [
    {
     "data": {
      "text/plain": [
       "(2000, 21)"
      ]
     },
     "execution_count": 2,
     "metadata": {},
     "output_type": "execute_result"
    }
   ],
   "source": [
    "mobile_dataset.shape"
   ]
  },
  {
   "cell_type": "code",
   "execution_count": 3,
   "id": "844707e9",
   "metadata": {},
   "outputs": [
    {
     "data": {
      "text/plain": [
       "battery_power    0\n",
       "blue             0\n",
       "clock_speed      0\n",
       "dual_sim         0\n",
       "fc               0\n",
       "four_g           0\n",
       "int_memory       0\n",
       "m_dep            0\n",
       "mobile_wt        0\n",
       "n_cores          0\n",
       "pc               0\n",
       "px_height        0\n",
       "px_width         0\n",
       "ram              0\n",
       "sc_h             0\n",
       "sc_w             0\n",
       "talk_time        0\n",
       "three_g          0\n",
       "touch_screen     0\n",
       "wifi             0\n",
       "price_range      0\n",
       "dtype: int64"
      ]
     },
     "execution_count": 3,
     "metadata": {},
     "output_type": "execute_result"
    }
   ],
   "source": [
    "mobile_dataset.isnull().sum()"
   ]
  },
  {
   "cell_type": "code",
   "execution_count": 4,
   "id": "9e4ee3ef",
   "metadata": {},
   "outputs": [
    {
     "name": "stdout",
     "output_type": "stream",
     "text": [
      "<class 'pandas.core.frame.DataFrame'>\n",
      "<class 'pandas.core.series.Series'>\n"
     ]
    }
   ],
   "source": [
    "x = mobile_dataset.iloc[:,:-1]\n",
    "y = mobile_dataset.iloc[:,-1]\n",
    "print(type(x))\n",
    "print(type(y))\n"
   ]
  },
  {
   "cell_type": "code",
   "execution_count": 5,
   "id": "891193f9",
   "metadata": {},
   "outputs": [
    {
     "data": {
      "text/html": [
       "<div>\n",
       "<style scoped>\n",
       "    .dataframe tbody tr th:only-of-type {\n",
       "        vertical-align: middle;\n",
       "    }\n",
       "\n",
       "    .dataframe tbody tr th {\n",
       "        vertical-align: top;\n",
       "    }\n",
       "\n",
       "    .dataframe thead th {\n",
       "        text-align: right;\n",
       "    }\n",
       "</style>\n",
       "<table border=\"1\" class=\"dataframe\">\n",
       "  <thead>\n",
       "    <tr style=\"text-align: right;\">\n",
       "      <th></th>\n",
       "      <th>battery_power</th>\n",
       "      <th>blue</th>\n",
       "      <th>clock_speed</th>\n",
       "      <th>dual_sim</th>\n",
       "      <th>fc</th>\n",
       "      <th>four_g</th>\n",
       "      <th>int_memory</th>\n",
       "      <th>m_dep</th>\n",
       "      <th>mobile_wt</th>\n",
       "      <th>n_cores</th>\n",
       "      <th>pc</th>\n",
       "      <th>px_height</th>\n",
       "      <th>px_width</th>\n",
       "      <th>ram</th>\n",
       "      <th>sc_h</th>\n",
       "      <th>sc_w</th>\n",
       "      <th>talk_time</th>\n",
       "      <th>three_g</th>\n",
       "      <th>touch_screen</th>\n",
       "      <th>wifi</th>\n",
       "    </tr>\n",
       "  </thead>\n",
       "  <tbody>\n",
       "    <tr>\n",
       "      <th>0</th>\n",
       "      <td>842</td>\n",
       "      <td>0</td>\n",
       "      <td>2.2</td>\n",
       "      <td>0</td>\n",
       "      <td>1</td>\n",
       "      <td>0</td>\n",
       "      <td>7</td>\n",
       "      <td>0.6</td>\n",
       "      <td>188</td>\n",
       "      <td>2</td>\n",
       "      <td>2</td>\n",
       "      <td>20</td>\n",
       "      <td>756</td>\n",
       "      <td>2549</td>\n",
       "      <td>9</td>\n",
       "      <td>7</td>\n",
       "      <td>19</td>\n",
       "      <td>0</td>\n",
       "      <td>0</td>\n",
       "      <td>1</td>\n",
       "    </tr>\n",
       "    <tr>\n",
       "      <th>1</th>\n",
       "      <td>1021</td>\n",
       "      <td>1</td>\n",
       "      <td>0.5</td>\n",
       "      <td>1</td>\n",
       "      <td>0</td>\n",
       "      <td>1</td>\n",
       "      <td>53</td>\n",
       "      <td>0.7</td>\n",
       "      <td>136</td>\n",
       "      <td>3</td>\n",
       "      <td>6</td>\n",
       "      <td>905</td>\n",
       "      <td>1988</td>\n",
       "      <td>2631</td>\n",
       "      <td>17</td>\n",
       "      <td>3</td>\n",
       "      <td>7</td>\n",
       "      <td>1</td>\n",
       "      <td>1</td>\n",
       "      <td>0</td>\n",
       "    </tr>\n",
       "    <tr>\n",
       "      <th>2</th>\n",
       "      <td>563</td>\n",
       "      <td>1</td>\n",
       "      <td>0.5</td>\n",
       "      <td>1</td>\n",
       "      <td>2</td>\n",
       "      <td>1</td>\n",
       "      <td>41</td>\n",
       "      <td>0.9</td>\n",
       "      <td>145</td>\n",
       "      <td>5</td>\n",
       "      <td>6</td>\n",
       "      <td>1263</td>\n",
       "      <td>1716</td>\n",
       "      <td>2603</td>\n",
       "      <td>11</td>\n",
       "      <td>2</td>\n",
       "      <td>9</td>\n",
       "      <td>1</td>\n",
       "      <td>1</td>\n",
       "      <td>0</td>\n",
       "    </tr>\n",
       "    <tr>\n",
       "      <th>3</th>\n",
       "      <td>615</td>\n",
       "      <td>1</td>\n",
       "      <td>2.5</td>\n",
       "      <td>0</td>\n",
       "      <td>0</td>\n",
       "      <td>0</td>\n",
       "      <td>10</td>\n",
       "      <td>0.8</td>\n",
       "      <td>131</td>\n",
       "      <td>6</td>\n",
       "      <td>9</td>\n",
       "      <td>1216</td>\n",
       "      <td>1786</td>\n",
       "      <td>2769</td>\n",
       "      <td>16</td>\n",
       "      <td>8</td>\n",
       "      <td>11</td>\n",
       "      <td>1</td>\n",
       "      <td>0</td>\n",
       "      <td>0</td>\n",
       "    </tr>\n",
       "    <tr>\n",
       "      <th>4</th>\n",
       "      <td>1821</td>\n",
       "      <td>1</td>\n",
       "      <td>1.2</td>\n",
       "      <td>0</td>\n",
       "      <td>13</td>\n",
       "      <td>1</td>\n",
       "      <td>44</td>\n",
       "      <td>0.6</td>\n",
       "      <td>141</td>\n",
       "      <td>2</td>\n",
       "      <td>14</td>\n",
       "      <td>1208</td>\n",
       "      <td>1212</td>\n",
       "      <td>1411</td>\n",
       "      <td>8</td>\n",
       "      <td>2</td>\n",
       "      <td>15</td>\n",
       "      <td>1</td>\n",
       "      <td>1</td>\n",
       "      <td>0</td>\n",
       "    </tr>\n",
       "  </tbody>\n",
       "</table>\n",
       "</div>"
      ],
      "text/plain": [
       "   battery_power  blue  clock_speed  dual_sim  fc  four_g  int_memory  m_dep  \\\n",
       "0            842     0          2.2         0   1       0           7    0.6   \n",
       "1           1021     1          0.5         1   0       1          53    0.7   \n",
       "2            563     1          0.5         1   2       1          41    0.9   \n",
       "3            615     1          2.5         0   0       0          10    0.8   \n",
       "4           1821     1          1.2         0  13       1          44    0.6   \n",
       "\n",
       "   mobile_wt  n_cores  pc  px_height  px_width   ram  sc_h  sc_w  talk_time  \\\n",
       "0        188        2   2         20       756  2549     9     7         19   \n",
       "1        136        3   6        905      1988  2631    17     3          7   \n",
       "2        145        5   6       1263      1716  2603    11     2          9   \n",
       "3        131        6   9       1216      1786  2769    16     8         11   \n",
       "4        141        2  14       1208      1212  1411     8     2         15   \n",
       "\n",
       "   three_g  touch_screen  wifi  \n",
       "0        0             0     1  \n",
       "1        1             1     0  \n",
       "2        1             1     0  \n",
       "3        1             0     0  \n",
       "4        1             1     0  "
      ]
     },
     "execution_count": 5,
     "metadata": {},
     "output_type": "execute_result"
    }
   ],
   "source": [
    "x.head()"
   ]
  },
  {
   "cell_type": "code",
   "execution_count": 6,
   "id": "c5882fc8",
   "metadata": {},
   "outputs": [
    {
     "data": {
      "text/plain": [
       "0    1\n",
       "1    2\n",
       "2    2\n",
       "3    2\n",
       "4    1\n",
       "Name: price_range, dtype: int64"
      ]
     },
     "execution_count": 6,
     "metadata": {},
     "output_type": "execute_result"
    }
   ],
   "source": [
    "y.head()"
   ]
  },
  {
   "cell_type": "code",
   "execution_count": 7,
   "id": "84626e19",
   "metadata": {},
   "outputs": [
    {
     "name": "stdout",
     "output_type": "stream",
     "text": [
      "(1500, 20)\n",
      "(500, 20)\n",
      "(1500,)\n",
      "(500,)\n"
     ]
    }
   ],
   "source": [
    "from sklearn.model_selection import train_test_split\n",
    "x_tr,x_ts,y_tr,y_ts = train_test_split(x,y,test_size = 0.25)\n",
    "print(x_tr.shape)\n",
    "print(x_ts.shape)\n",
    "print(y_tr.shape)\n",
    "print(y_ts.shape)"
   ]
  },
  {
   "cell_type": "code",
   "execution_count": 8,
   "id": "182980ff",
   "metadata": {},
   "outputs": [
    {
     "data": {
      "text/html": [
       "<div>\n",
       "<style scoped>\n",
       "    .dataframe tbody tr th:only-of-type {\n",
       "        vertical-align: middle;\n",
       "    }\n",
       "\n",
       "    .dataframe tbody tr th {\n",
       "        vertical-align: top;\n",
       "    }\n",
       "\n",
       "    .dataframe thead th {\n",
       "        text-align: right;\n",
       "    }\n",
       "</style>\n",
       "<table border=\"1\" class=\"dataframe\">\n",
       "  <thead>\n",
       "    <tr style=\"text-align: right;\">\n",
       "      <th></th>\n",
       "      <th>battery_power</th>\n",
       "      <th>blue</th>\n",
       "      <th>clock_speed</th>\n",
       "      <th>dual_sim</th>\n",
       "      <th>fc</th>\n",
       "      <th>four_g</th>\n",
       "      <th>int_memory</th>\n",
       "      <th>m_dep</th>\n",
       "      <th>mobile_wt</th>\n",
       "      <th>n_cores</th>\n",
       "      <th>pc</th>\n",
       "      <th>px_height</th>\n",
       "      <th>px_width</th>\n",
       "      <th>ram</th>\n",
       "      <th>sc_h</th>\n",
       "      <th>sc_w</th>\n",
       "      <th>talk_time</th>\n",
       "      <th>three_g</th>\n",
       "      <th>touch_screen</th>\n",
       "      <th>wifi</th>\n",
       "    </tr>\n",
       "  </thead>\n",
       "  <tbody>\n",
       "    <tr>\n",
       "      <th>1341</th>\n",
       "      <td>1423</td>\n",
       "      <td>0</td>\n",
       "      <td>0.6</td>\n",
       "      <td>0</td>\n",
       "      <td>12</td>\n",
       "      <td>0</td>\n",
       "      <td>44</td>\n",
       "      <td>0.8</td>\n",
       "      <td>131</td>\n",
       "      <td>5</td>\n",
       "      <td>13</td>\n",
       "      <td>501</td>\n",
       "      <td>640</td>\n",
       "      <td>2253</td>\n",
       "      <td>10</td>\n",
       "      <td>8</td>\n",
       "      <td>9</td>\n",
       "      <td>0</td>\n",
       "      <td>0</td>\n",
       "      <td>0</td>\n",
       "    </tr>\n",
       "    <tr>\n",
       "      <th>742</th>\n",
       "      <td>1822</td>\n",
       "      <td>0</td>\n",
       "      <td>1.2</td>\n",
       "      <td>0</td>\n",
       "      <td>0</td>\n",
       "      <td>0</td>\n",
       "      <td>8</td>\n",
       "      <td>0.2</td>\n",
       "      <td>195</td>\n",
       "      <td>6</td>\n",
       "      <td>0</td>\n",
       "      <td>172</td>\n",
       "      <td>910</td>\n",
       "      <td>2577</td>\n",
       "      <td>9</td>\n",
       "      <td>5</td>\n",
       "      <td>8</td>\n",
       "      <td>1</td>\n",
       "      <td>1</td>\n",
       "      <td>0</td>\n",
       "    </tr>\n",
       "    <tr>\n",
       "      <th>98</th>\n",
       "      <td>657</td>\n",
       "      <td>0</td>\n",
       "      <td>2.5</td>\n",
       "      <td>0</td>\n",
       "      <td>0</td>\n",
       "      <td>0</td>\n",
       "      <td>37</td>\n",
       "      <td>0.7</td>\n",
       "      <td>141</td>\n",
       "      <td>2</td>\n",
       "      <td>1</td>\n",
       "      <td>476</td>\n",
       "      <td>961</td>\n",
       "      <td>1412</td>\n",
       "      <td>14</td>\n",
       "      <td>3</td>\n",
       "      <td>18</td>\n",
       "      <td>0</td>\n",
       "      <td>1</td>\n",
       "      <td>0</td>\n",
       "    </tr>\n",
       "    <tr>\n",
       "      <th>754</th>\n",
       "      <td>1092</td>\n",
       "      <td>0</td>\n",
       "      <td>2.7</td>\n",
       "      <td>1</td>\n",
       "      <td>8</td>\n",
       "      <td>0</td>\n",
       "      <td>45</td>\n",
       "      <td>0.8</td>\n",
       "      <td>185</td>\n",
       "      <td>1</td>\n",
       "      <td>10</td>\n",
       "      <td>1404</td>\n",
       "      <td>1424</td>\n",
       "      <td>1303</td>\n",
       "      <td>12</td>\n",
       "      <td>3</td>\n",
       "      <td>20</td>\n",
       "      <td>0</td>\n",
       "      <td>1</td>\n",
       "      <td>1</td>\n",
       "    </tr>\n",
       "    <tr>\n",
       "      <th>1597</th>\n",
       "      <td>848</td>\n",
       "      <td>1</td>\n",
       "      <td>2.8</td>\n",
       "      <td>0</td>\n",
       "      <td>1</td>\n",
       "      <td>0</td>\n",
       "      <td>8</td>\n",
       "      <td>0.1</td>\n",
       "      <td>103</td>\n",
       "      <td>7</td>\n",
       "      <td>3</td>\n",
       "      <td>7</td>\n",
       "      <td>1294</td>\n",
       "      <td>436</td>\n",
       "      <td>10</td>\n",
       "      <td>6</td>\n",
       "      <td>15</td>\n",
       "      <td>1</td>\n",
       "      <td>1</td>\n",
       "      <td>1</td>\n",
       "    </tr>\n",
       "  </tbody>\n",
       "</table>\n",
       "</div>"
      ],
      "text/plain": [
       "      battery_power  blue  clock_speed  dual_sim  fc  four_g  int_memory  \\\n",
       "1341           1423     0          0.6         0  12       0          44   \n",
       "742            1822     0          1.2         0   0       0           8   \n",
       "98              657     0          2.5         0   0       0          37   \n",
       "754            1092     0          2.7         1   8       0          45   \n",
       "1597            848     1          2.8         0   1       0           8   \n",
       "\n",
       "      m_dep  mobile_wt  n_cores  pc  px_height  px_width   ram  sc_h  sc_w  \\\n",
       "1341    0.8        131        5  13        501       640  2253    10     8   \n",
       "742     0.2        195        6   0        172       910  2577     9     5   \n",
       "98      0.7        141        2   1        476       961  1412    14     3   \n",
       "754     0.8        185        1  10       1404      1424  1303    12     3   \n",
       "1597    0.1        103        7   3          7      1294   436    10     6   \n",
       "\n",
       "      talk_time  three_g  touch_screen  wifi  \n",
       "1341          9        0             0     0  \n",
       "742           8        1             1     0  \n",
       "98           18        0             1     0  \n",
       "754          20        0             1     1  \n",
       "1597         15        1             1     1  "
      ]
     },
     "execution_count": 8,
     "metadata": {},
     "output_type": "execute_result"
    }
   ],
   "source": [
    "x_tr.head()"
   ]
  },
  {
   "cell_type": "code",
   "execution_count": 10,
   "id": "d84e43fb",
   "metadata": {},
   "outputs": [
    {
     "data": {
      "text/html": [
       "<div>\n",
       "<style scoped>\n",
       "    .dataframe tbody tr th:only-of-type {\n",
       "        vertical-align: middle;\n",
       "    }\n",
       "\n",
       "    .dataframe tbody tr th {\n",
       "        vertical-align: top;\n",
       "    }\n",
       "\n",
       "    .dataframe thead th {\n",
       "        text-align: right;\n",
       "    }\n",
       "</style>\n",
       "<table border=\"1\" class=\"dataframe\">\n",
       "  <thead>\n",
       "    <tr style=\"text-align: right;\">\n",
       "      <th></th>\n",
       "      <th>battery_power</th>\n",
       "      <th>blue</th>\n",
       "      <th>clock_speed</th>\n",
       "      <th>dual_sim</th>\n",
       "      <th>fc</th>\n",
       "      <th>four_g</th>\n",
       "      <th>int_memory</th>\n",
       "      <th>m_dep</th>\n",
       "      <th>mobile_wt</th>\n",
       "      <th>n_cores</th>\n",
       "      <th>pc</th>\n",
       "      <th>px_height</th>\n",
       "      <th>px_width</th>\n",
       "      <th>ram</th>\n",
       "      <th>sc_h</th>\n",
       "      <th>sc_w</th>\n",
       "      <th>talk_time</th>\n",
       "      <th>three_g</th>\n",
       "      <th>touch_screen</th>\n",
       "      <th>wifi</th>\n",
       "    </tr>\n",
       "  </thead>\n",
       "  <tbody>\n",
       "    <tr>\n",
       "      <th>594</th>\n",
       "      <td>621</td>\n",
       "      <td>1</td>\n",
       "      <td>2.7</td>\n",
       "      <td>1</td>\n",
       "      <td>0</td>\n",
       "      <td>0</td>\n",
       "      <td>54</td>\n",
       "      <td>0.1</td>\n",
       "      <td>151</td>\n",
       "      <td>4</td>\n",
       "      <td>20</td>\n",
       "      <td>434</td>\n",
       "      <td>910</td>\n",
       "      <td>2801</td>\n",
       "      <td>6</td>\n",
       "      <td>1</td>\n",
       "      <td>5</td>\n",
       "      <td>1</td>\n",
       "      <td>1</td>\n",
       "      <td>1</td>\n",
       "    </tr>\n",
       "    <tr>\n",
       "      <th>1617</th>\n",
       "      <td>634</td>\n",
       "      <td>1</td>\n",
       "      <td>0.8</td>\n",
       "      <td>0</td>\n",
       "      <td>5</td>\n",
       "      <td>0</td>\n",
       "      <td>41</td>\n",
       "      <td>0.2</td>\n",
       "      <td>192</td>\n",
       "      <td>1</td>\n",
       "      <td>12</td>\n",
       "      <td>1362</td>\n",
       "      <td>1853</td>\n",
       "      <td>3242</td>\n",
       "      <td>18</td>\n",
       "      <td>11</td>\n",
       "      <td>4</td>\n",
       "      <td>1</td>\n",
       "      <td>0</td>\n",
       "      <td>1</td>\n",
       "    </tr>\n",
       "    <tr>\n",
       "      <th>796</th>\n",
       "      <td>1204</td>\n",
       "      <td>1</td>\n",
       "      <td>2.6</td>\n",
       "      <td>0</td>\n",
       "      <td>0</td>\n",
       "      <td>0</td>\n",
       "      <td>10</td>\n",
       "      <td>0.3</td>\n",
       "      <td>199</td>\n",
       "      <td>7</td>\n",
       "      <td>3</td>\n",
       "      <td>480</td>\n",
       "      <td>1482</td>\n",
       "      <td>1724</td>\n",
       "      <td>11</td>\n",
       "      <td>2</td>\n",
       "      <td>19</td>\n",
       "      <td>1</td>\n",
       "      <td>0</td>\n",
       "      <td>0</td>\n",
       "    </tr>\n",
       "    <tr>\n",
       "      <th>566</th>\n",
       "      <td>1170</td>\n",
       "      <td>1</td>\n",
       "      <td>1.2</td>\n",
       "      <td>0</td>\n",
       "      <td>4</td>\n",
       "      <td>0</td>\n",
       "      <td>30</td>\n",
       "      <td>0.4</td>\n",
       "      <td>83</td>\n",
       "      <td>8</td>\n",
       "      <td>15</td>\n",
       "      <td>27</td>\n",
       "      <td>1722</td>\n",
       "      <td>1073</td>\n",
       "      <td>6</td>\n",
       "      <td>4</td>\n",
       "      <td>8</td>\n",
       "      <td>1</td>\n",
       "      <td>1</td>\n",
       "      <td>0</td>\n",
       "    </tr>\n",
       "    <tr>\n",
       "      <th>992</th>\n",
       "      <td>1090</td>\n",
       "      <td>0</td>\n",
       "      <td>1.3</td>\n",
       "      <td>1</td>\n",
       "      <td>5</td>\n",
       "      <td>0</td>\n",
       "      <td>27</td>\n",
       "      <td>0.1</td>\n",
       "      <td>91</td>\n",
       "      <td>4</td>\n",
       "      <td>16</td>\n",
       "      <td>1638</td>\n",
       "      <td>1910</td>\n",
       "      <td>1352</td>\n",
       "      <td>5</td>\n",
       "      <td>1</td>\n",
       "      <td>11</td>\n",
       "      <td>0</td>\n",
       "      <td>1</td>\n",
       "      <td>0</td>\n",
       "    </tr>\n",
       "  </tbody>\n",
       "</table>\n",
       "</div>"
      ],
      "text/plain": [
       "      battery_power  blue  clock_speed  dual_sim  fc  four_g  int_memory  \\\n",
       "594             621     1          2.7         1   0       0          54   \n",
       "1617            634     1          0.8         0   5       0          41   \n",
       "796            1204     1          2.6         0   0       0          10   \n",
       "566            1170     1          1.2         0   4       0          30   \n",
       "992            1090     0          1.3         1   5       0          27   \n",
       "\n",
       "      m_dep  mobile_wt  n_cores  pc  px_height  px_width   ram  sc_h  sc_w  \\\n",
       "594     0.1        151        4  20        434       910  2801     6     1   \n",
       "1617    0.2        192        1  12       1362      1853  3242    18    11   \n",
       "796     0.3        199        7   3        480      1482  1724    11     2   \n",
       "566     0.4         83        8  15         27      1722  1073     6     4   \n",
       "992     0.1         91        4  16       1638      1910  1352     5     1   \n",
       "\n",
       "      talk_time  three_g  touch_screen  wifi  \n",
       "594           5        1             1     1  \n",
       "1617          4        1             0     1  \n",
       "796          19        1             0     0  \n",
       "566           8        1             1     0  \n",
       "992          11        0             1     0  "
      ]
     },
     "execution_count": 10,
     "metadata": {},
     "output_type": "execute_result"
    }
   ],
   "source": [
    "x_ts.head()"
   ]
  },
  {
   "cell_type": "code",
   "execution_count": 11,
   "id": "871e7ad3",
   "metadata": {},
   "outputs": [
    {
     "data": {
      "text/plain": [
       "1341    1\n",
       "742     2\n",
       "98      0\n",
       "754     1\n",
       "1597    0\n",
       "Name: price_range, dtype: int64"
      ]
     },
     "execution_count": 11,
     "metadata": {},
     "output_type": "execute_result"
    }
   ],
   "source": [
    "y_tr.head()"
   ]
  },
  {
   "cell_type": "code",
   "execution_count": 13,
   "id": "4ca15303",
   "metadata": {},
   "outputs": [
    {
     "data": {
      "text/plain": [
       "594     2\n",
       "1617    3\n",
       "796     1\n",
       "566     0\n",
       "992     1\n",
       "Name: price_range, dtype: int64"
      ]
     },
     "execution_count": 13,
     "metadata": {},
     "output_type": "execute_result"
    }
   ],
   "source": [
    "y_ts.head()"
   ]
  },
  {
   "cell_type": "code",
   "execution_count": 14,
   "id": "58336287",
   "metadata": {},
   "outputs": [
    {
     "name": "stderr",
     "output_type": "stream",
     "text": [
      "C:\\Users\\arind\\anaconda3\\lib\\site-packages\\sklearn\\linear_model\\_logistic.py:814: ConvergenceWarning: lbfgs failed to converge (status=1):\n",
      "STOP: TOTAL NO. of ITERATIONS REACHED LIMIT.\n",
      "\n",
      "Increase the number of iterations (max_iter) or scale the data as shown in:\n",
      "    https://scikit-learn.org/stable/modules/preprocessing.html\n",
      "Please also refer to the documentation for alternative solver options:\n",
      "    https://scikit-learn.org/stable/modules/linear_model.html#logistic-regression\n",
      "  n_iter_i = _check_optimize_result(\n"
     ]
    },
    {
     "data": {
      "text/plain": [
       "LogisticRegression()"
      ]
     },
     "execution_count": 14,
     "metadata": {},
     "output_type": "execute_result"
    }
   ],
   "source": [
    "from sklearn.linear_model import LogisticRegression\n",
    "m1 = LogisticRegression()\n",
    "m1.fit(x_tr,y_tr)"
   ]
  },
  {
   "cell_type": "code",
   "execution_count": 15,
   "id": "5ccdac35",
   "metadata": {},
   "outputs": [
    {
     "data": {
      "text/plain": [
       "array([2, 2, 0, 1, 1, 2, 0, 3, 1, 0, 1, 0, 0, 0, 0, 1, 0, 0, 3, 0, 1, 2,\n",
       "       3, 0, 1, 2, 1, 1, 0, 0, 3, 0, 0, 2, 2, 3, 1, 1, 1, 3, 3, 2, 0, 3,\n",
       "       0, 1, 0, 2, 0, 0, 2, 3, 0, 3, 0, 1, 0, 0, 2, 0, 1, 2, 3, 3, 3, 3,\n",
       "       0, 0, 2, 3, 2, 3, 3, 2, 0, 3, 3, 0, 3, 1, 1, 2, 3, 0, 3, 2, 3, 0,\n",
       "       0, 1, 3, 2, 2, 2, 0, 3, 3, 0, 2, 2, 0, 3, 0, 0, 3, 3, 0, 0, 3, 3,\n",
       "       2, 2, 1, 3, 3, 0, 2, 3, 0, 3, 0, 1, 3, 2, 2, 2, 3, 3, 2, 0, 0, 0,\n",
       "       3, 3, 3, 2, 3, 2, 3, 2, 2, 1, 0, 2, 1, 1, 0, 0, 0, 2, 1, 3, 0, 2,\n",
       "       3, 1, 3, 1, 2, 0, 2, 1, 3, 1, 3, 3, 2, 3, 2, 1, 1, 2, 0, 3, 3, 1,\n",
       "       2, 3, 0, 2, 3, 1, 3, 0, 3, 2, 2, 0, 3, 2, 1, 0, 2, 0, 0, 1, 0, 1,\n",
       "       3, 0, 3, 1, 2, 0, 3, 1, 3, 0, 3, 3, 0, 1, 2, 3, 0, 3, 2, 3, 3, 0,\n",
       "       1, 2, 3, 0, 0, 3, 3, 2, 0, 1, 3, 2, 3, 1, 0, 2, 1, 3, 2, 2, 0, 0,\n",
       "       0, 0, 2, 3, 0, 1, 2, 2, 0, 1, 2, 0, 2, 2, 3, 2, 1, 3, 1, 2, 3, 1,\n",
       "       1, 0, 2, 2, 2, 1, 0, 0, 3, 0, 3, 1, 2, 0, 2, 3, 0, 0, 2, 0, 0, 1,\n",
       "       2, 0, 3, 1, 3, 1, 3, 2, 3, 3, 3, 1, 1, 2, 3, 2, 2, 3, 0, 2, 0, 3,\n",
       "       2, 3, 3, 1, 0, 3, 3, 0, 0, 2, 3, 2, 3, 3, 0, 2, 2, 3, 1, 2, 3, 2,\n",
       "       0, 0, 0, 0, 0, 3, 1, 3, 2, 1, 2, 1, 1, 0, 3, 0, 3, 2, 2, 1, 1, 1,\n",
       "       2, 3, 2, 0, 2, 1, 2, 3, 1, 3, 2, 3, 2, 0, 1, 3, 2, 3, 0, 3, 1, 0,\n",
       "       0, 0, 3, 3, 2, 3, 3, 3, 3, 2, 2, 2, 2, 2, 3, 0, 0, 0, 0, 1, 0, 0,\n",
       "       3, 2, 2, 3, 1, 0, 2, 0, 3, 0, 1, 3, 0, 1, 2, 2, 2, 2, 0, 3, 1, 2,\n",
       "       1, 1, 2, 3, 0, 1, 1, 0, 2, 3, 0, 1, 1, 1, 3, 1, 2, 0, 0, 1, 3, 3,\n",
       "       2, 2, 3, 2, 3, 3, 2, 1, 0, 0, 3, 3, 3, 2, 1, 0, 3, 1, 2, 2, 3, 1,\n",
       "       0, 1, 1, 2, 3, 1, 2, 2, 0, 0, 3, 3, 1, 3, 3, 2, 2, 0, 0, 0, 2, 1,\n",
       "       3, 2, 0, 3, 1, 1, 0, 2, 0, 1, 1, 1, 2, 0, 3, 1], dtype=int64)"
      ]
     },
     "execution_count": 15,
     "metadata": {},
     "output_type": "execute_result"
    }
   ],
   "source": [
    "ypred = m1.predict(x_ts)\n",
    "ypred"
   ]
  },
  {
   "cell_type": "code",
   "execution_count": 16,
   "id": "de545f6b",
   "metadata": {},
   "outputs": [
    {
     "name": "stdout",
     "output_type": "stream",
     "text": [
      "[[107  19   1   0]\n",
      " [ 27  59  35  10]\n",
      " [  0  19  60  47]\n",
      " [  0   0  31  85]]\n",
      "              precision    recall  f1-score   support\n",
      "\n",
      "           0       0.80      0.84      0.82       127\n",
      "           1       0.61      0.45      0.52       131\n",
      "           2       0.47      0.48      0.47       126\n",
      "           3       0.60      0.73      0.66       116\n",
      "\n",
      "    accuracy                           0.62       500\n",
      "   macro avg       0.62      0.63      0.62       500\n",
      "weighted avg       0.62      0.62      0.62       500\n",
      "\n"
     ]
    }
   ],
   "source": [
    "from sklearn.metrics import confusion_matrix , classification_report\n",
    "c_matrix = confusion_matrix(y_ts,ypred)\n",
    "c_report = classification_report(y_ts,ypred)\n",
    "print(c_matrix)\n",
    "print(c_report)"
   ]
  },
  {
   "cell_type": "markdown",
   "id": "fb7bbb3d",
   "metadata": {},
   "source": [
    "MODEL_2 :- KNN CLASSIFICATION"
   ]
  },
  {
   "cell_type": "code",
   "execution_count": 19,
   "id": "eb8c4c9c",
   "metadata": {},
   "outputs": [
    {
     "data": {
      "text/plain": [
       "KNeighborsClassifier(n_neighbors=10)"
      ]
     },
     "execution_count": 19,
     "metadata": {},
     "output_type": "execute_result"
    }
   ],
   "source": [
    "from sklearn.neighbors import KNeighborsClassifier\n",
    "m2 = KNeighborsClassifier(n_neighbors = 10)\n",
    "m2.fit(x_tr,y_tr)"
   ]
  },
  {
   "cell_type": "code",
   "execution_count": 20,
   "id": "3fa73880",
   "metadata": {},
   "outputs": [
    {
     "data": {
      "text/plain": [
       "array([2, 3, 1, 0, 1, 2, 0, 2, 0, 0, 1, 1, 0, 0, 0, 0, 0, 0, 2, 0, 0, 1,\n",
       "       2, 0, 2, 2, 1, 1, 0, 0, 2, 0, 0, 2, 1, 1, 1, 1, 0, 3, 3, 2, 1, 2,\n",
       "       0, 2, 0, 2, 0, 1, 2, 3, 0, 3, 0, 1, 0, 1, 1, 0, 1, 3, 3, 3, 3, 2,\n",
       "       0, 1, 1, 2, 3, 2, 2, 2, 0, 3, 3, 0, 3, 0, 2, 2, 1, 1, 2, 2, 1, 0,\n",
       "       0, 0, 2, 1, 1, 2, 0, 3, 3, 0, 1, 1, 1, 2, 0, 0, 2, 2, 0, 0, 3, 3,\n",
       "       1, 1, 1, 3, 3, 0, 1, 1, 0, 2, 0, 1, 3, 2, 2, 3, 3, 3, 3, 0, 0, 0,\n",
       "       3, 2, 3, 3, 2, 3, 3, 2, 1, 2, 0, 2, 1, 1, 0, 1, 0, 3, 0, 3, 0, 2,\n",
       "       3, 2, 2, 1, 2, 0, 2, 1, 2, 1, 3, 3, 3, 3, 2, 1, 1, 2, 0, 2, 3, 0,\n",
       "       1, 3, 0, 2, 3, 1, 3, 0, 2, 2, 3, 0, 1, 3, 0, 1, 3, 0, 0, 0, 0, 1,\n",
       "       3, 0, 2, 1, 3, 1, 3, 1, 3, 0, 2, 2, 0, 1, 1, 3, 0, 3, 2, 1, 3, 0,\n",
       "       1, 2, 3, 0, 0, 3, 3, 2, 0, 2, 3, 2, 2, 1, 0, 1, 1, 1, 2, 2, 0, 0,\n",
       "       1, 0, 2, 3, 0, 1, 2, 3, 0, 1, 3, 0, 3, 1, 2, 2, 0, 3, 1, 1, 3, 1,\n",
       "       1, 0, 2, 1, 1, 2, 1, 0, 3, 0, 3, 1, 1, 1, 2, 2, 1, 0, 2, 0, 0, 2,\n",
       "       2, 0, 3, 2, 3, 1, 3, 3, 2, 3, 2, 1, 1, 1, 2, 1, 2, 3, 0, 2, 0, 3,\n",
       "       2, 2, 2, 0, 0, 3, 3, 0, 0, 2, 2, 2, 1, 2, 0, 1, 3, 3, 0, 2, 3, 3,\n",
       "       0, 0, 1, 1, 0, 3, 0, 2, 1, 1, 3, 2, 1, 0, 2, 0, 3, 2, 2, 1, 1, 0,\n",
       "       1, 3, 0, 0, 2, 0, 2, 2, 1, 3, 1, 3, 2, 0, 1, 3, 3, 2, 0, 2, 1, 1,\n",
       "       0, 0, 2, 3, 1, 3, 3, 2, 3, 3, 0, 1, 1, 3, 2, 0, 0, 0, 0, 1, 1, 1,\n",
       "       3, 3, 3, 3, 1, 1, 3, 1, 1, 0, 0, 2, 0, 1, 3, 3, 2, 2, 0, 2, 1, 1,\n",
       "       0, 0, 3, 2, 0, 2, 1, 0, 3, 3, 0, 0, 1, 1, 3, 0, 1, 0, 0, 2, 2, 2,\n",
       "       1, 1, 2, 1, 3, 2, 1, 1, 0, 0, 3, 1, 2, 3, 0, 0, 3, 1, 3, 2, 1, 1,\n",
       "       0, 2, 1, 2, 2, 1, 1, 3, 1, 0, 2, 3, 1, 3, 2, 1, 3, 0, 0, 0, 2, 1,\n",
       "       2, 1, 0, 2, 1, 2, 0, 3, 0, 0, 0, 1, 2, 0, 3, 1], dtype=int64)"
      ]
     },
     "execution_count": 20,
     "metadata": {},
     "output_type": "execute_result"
    }
   ],
   "source": [
    "ym2pred = m2.predict(x_ts)\n",
    "ym2pred"
   ]
  },
  {
   "cell_type": "code",
   "execution_count": 24,
   "id": "041a5959",
   "metadata": {},
   "outputs": [
    {
     "name": "stdout",
     "output_type": "stream",
     "text": [
      "[[124  14   0   0]\n",
      " [  3 117  10   0]\n",
      " [  0   0 108  13]\n",
      " [  0   0   8 103]]\n",
      "              precision    recall  f1-score   support\n",
      "\n",
      "           0       0.98      0.90      0.94       138\n",
      "           1       0.89      0.90      0.90       130\n",
      "           2       0.86      0.89      0.87       121\n",
      "           3       0.89      0.93      0.91       111\n",
      "\n",
      "    accuracy                           0.90       500\n",
      "   macro avg       0.90      0.90      0.90       500\n",
      "weighted avg       0.91      0.90      0.90       500\n",
      "\n"
     ]
    }
   ],
   "source": [
    "from sklearn.metrics import confusion_matrix,classification_report\n",
    "c_matrix_m2 = confusion_matrix(ym2pred,y_ts)\n",
    "c_report_m2 = classification_report(ym2pred,y_ts)\n",
    "print(c_matrix_m2)\n",
    "print(c_report_m2)"
   ]
  },
  {
   "cell_type": "markdown",
   "id": "98585a01",
   "metadata": {},
   "source": [
    "MODEL_3 :- SVM Classifier with linear and rbf kernel\n"
   ]
  },
  {
   "cell_type": "code",
   "execution_count": 56,
   "id": "6c2e1285",
   "metadata": {},
   "outputs": [
    {
     "data": {
      "text/plain": [
       "SVC(C=1, kernel='linear')"
      ]
     },
     "execution_count": 56,
     "metadata": {},
     "output_type": "execute_result"
    }
   ],
   "source": [
    "from sklearn.svm import SVC\n",
    "m1_svc = SVC(kernel='linear',C=1)\n",
    "m1_svc.fit(x_tr,y_tr)"
   ]
  },
  {
   "cell_type": "code",
   "execution_count": 57,
   "id": "c5082c58",
   "metadata": {},
   "outputs": [
    {
     "name": "stdout",
     "output_type": "stream",
     "text": [
      "training score 0.9913333333333333\n",
      "test score 0.964\n"
     ]
    }
   ],
   "source": [
    "print('training score',m1_svc.score(x_tr,y_tr))\n",
    "print('test score',m1_svc.score(x_ts,y_ts))"
   ]
  },
  {
   "cell_type": "code",
   "execution_count": 58,
   "id": "e46f5c4c",
   "metadata": {},
   "outputs": [
    {
     "data": {
      "text/plain": [
       "array([2, 3, 1, 0, 1, 2, 0, 2, 0, 0, 1, 1, 1, 0, 0, 1, 1, 0, 3, 0, 0, 1,\n",
       "       2, 0, 2, 2, 1, 1, 0, 0, 2, 0, 0, 2, 1, 1, 1, 1, 0, 2, 3, 2, 1, 3,\n",
       "       0, 2, 0, 2, 0, 1, 3, 3, 0, 3, 0, 1, 0, 1, 1, 0, 1, 2, 3, 3, 3, 2,\n",
       "       0, 1, 1, 2, 3, 2, 2, 3, 0, 3, 3, 0, 3, 0, 2, 3, 1, 1, 2, 2, 1, 0,\n",
       "       0, 0, 2, 1, 1, 2, 0, 3, 3, 0, 1, 1, 1, 2, 0, 0, 2, 2, 0, 0, 3, 3,\n",
       "       2, 1, 1, 2, 3, 0, 1, 1, 0, 2, 0, 1, 3, 2, 2, 2, 3, 3, 3, 0, 0, 0,\n",
       "       3, 3, 3, 3, 2, 2, 3, 2, 1, 2, 0, 2, 1, 1, 0, 0, 0, 3, 1, 3, 0, 2,\n",
       "       3, 2, 3, 1, 2, 0, 2, 1, 2, 1, 3, 3, 3, 3, 2, 1, 1, 2, 0, 2, 3, 0,\n",
       "       1, 3, 0, 2, 3, 1, 3, 0, 2, 2, 2, 0, 1, 3, 0, 1, 3, 0, 0, 0, 0, 1,\n",
       "       3, 0, 2, 1, 3, 1, 3, 1, 3, 0, 2, 3, 0, 1, 1, 3, 0, 3, 2, 1, 3, 0,\n",
       "       1, 2, 3, 0, 0, 3, 3, 2, 0, 2, 3, 2, 2, 1, 0, 2, 1, 2, 2, 2, 0, 0,\n",
       "       1, 0, 2, 3, 0, 1, 2, 3, 0, 1, 3, 0, 2, 1, 2, 2, 0, 3, 1, 1, 3, 1,\n",
       "       1, 0, 2, 1, 1, 2, 1, 0, 3, 0, 3, 1, 1, 1, 2, 3, 1, 0, 2, 0, 0, 2,\n",
       "       2, 0, 3, 2, 3, 1, 3, 3, 2, 3, 2, 1, 1, 2, 3, 1, 2, 3, 0, 2, 0, 3,\n",
       "       2, 2, 2, 0, 0, 3, 3, 0, 0, 2, 2, 2, 1, 2, 0, 1, 3, 3, 0, 2, 3, 3,\n",
       "       0, 0, 1, 1, 1, 3, 1, 2, 1, 1, 3, 2, 1, 0, 2, 0, 3, 2, 2, 1, 1, 0,\n",
       "       1, 3, 1, 0, 2, 0, 2, 2, 1, 3, 2, 3, 2, 0, 2, 3, 3, 2, 0, 2, 1, 1,\n",
       "       0, 0, 2, 2, 1, 3, 3, 2, 3, 3, 0, 1, 1, 3, 2, 0, 0, 0, 1, 2, 1, 1,\n",
       "       3, 3, 2, 3, 1, 0, 3, 0, 1, 1, 0, 2, 0, 1, 3, 3, 2, 2, 0, 2, 1, 1,\n",
       "       0, 1, 2, 2, 0, 2, 1, 0, 3, 3, 0, 0, 1, 1, 3, 0, 1, 0, 0, 2, 2, 2,\n",
       "       1, 2, 2, 1, 3, 2, 1, 1, 0, 0, 3, 1, 2, 3, 0, 0, 3, 1, 3, 2, 1, 2,\n",
       "       0, 2, 1, 2, 2, 1, 1, 2, 1, 0, 2, 3, 0, 3, 3, 1, 3, 0, 0, 0, 2, 2,\n",
       "       2, 2, 0, 2, 1, 2, 0, 2, 0, 1, 1, 1, 2, 0, 3, 1], dtype=int64)"
      ]
     },
     "execution_count": 58,
     "metadata": {},
     "output_type": "execute_result"
    }
   ],
   "source": [
    "ypred_svc = m1_svc.predict(x_ts)\n",
    "ypred_svc"
   ]
  },
  {
   "cell_type": "code",
   "execution_count": 59,
   "id": "53c1c5ce",
   "metadata": {},
   "outputs": [
    {
     "name": "stdout",
     "output_type": "stream",
     "text": [
      "[[126   4   0   0]\n",
      " [  1 125   1   0]\n",
      " [  0   2 123   8]\n",
      " [  0   0   2 108]]\n",
      "              precision    recall  f1-score   support\n",
      "\n",
      "           0       0.99      0.97      0.98       130\n",
      "           1       0.95      0.98      0.97       127\n",
      "           2       0.98      0.92      0.95       133\n",
      "           3       0.93      0.98      0.96       110\n",
      "\n",
      "    accuracy                           0.96       500\n",
      "   macro avg       0.96      0.97      0.96       500\n",
      "weighted avg       0.96      0.96      0.96       500\n",
      "\n"
     ]
    }
   ],
   "source": [
    "from sklearn.metrics import confusion_matrix , classification_report\n",
    "c_matrix_svc = confusion_matrix(ypred_svc,y_ts)\n",
    "c_report_svc = classification_report(ypred_svc,y_ts)\n",
    "print(c_matrix_svc)\n",
    "print(c_report_svc)"
   ]
  },
  {
   "cell_type": "code",
   "execution_count": 42,
   "id": "c6ffc612",
   "metadata": {},
   "outputs": [
    {
     "data": {
      "text/plain": [
       "SVC(C=100, gamma=1.1e-07)"
      ]
     },
     "execution_count": 42,
     "metadata": {},
     "output_type": "execute_result"
    }
   ],
   "source": [
    "m2_svc = SVC(kernel = 'rbf',gamma = 0.00000011, C = 100)\n",
    "m2_svc.fit(x_tr,y_tr)"
   ]
  },
  {
   "cell_type": "code",
   "execution_count": 43,
   "id": "cc45e020",
   "metadata": {},
   "outputs": [
    {
     "data": {
      "text/plain": [
       "array([2, 3, 1, 0, 1, 2, 0, 2, 0, 0, 1, 1, 1, 0, 0, 1, 1, 0, 3, 0, 0, 1,\n",
       "       2, 0, 2, 2, 1, 1, 0, 0, 2, 0, 0, 2, 1, 1, 1, 1, 0, 2, 3, 2, 1, 3,\n",
       "       0, 2, 0, 2, 0, 1, 3, 3, 0, 3, 0, 1, 0, 1, 1, 0, 1, 2, 3, 3, 3, 2,\n",
       "       0, 1, 1, 2, 3, 2, 2, 3, 0, 3, 3, 0, 3, 0, 2, 3, 1, 1, 2, 2, 1, 0,\n",
       "       0, 0, 2, 2, 1, 2, 0, 3, 3, 0, 1, 1, 1, 2, 1, 0, 2, 2, 0, 0, 3, 3,\n",
       "       1, 1, 1, 2, 3, 0, 1, 1, 0, 2, 0, 2, 3, 2, 2, 2, 3, 3, 3, 0, 0, 0,\n",
       "       3, 3, 3, 3, 2, 3, 3, 2, 1, 2, 0, 2, 1, 1, 0, 0, 0, 3, 0, 3, 0, 2,\n",
       "       3, 2, 2, 1, 2, 0, 2, 1, 2, 1, 3, 3, 3, 3, 2, 1, 1, 2, 0, 2, 3, 0,\n",
       "       1, 3, 0, 2, 3, 1, 3, 0, 2, 2, 3, 0, 1, 3, 0, 1, 3, 0, 0, 0, 0, 1,\n",
       "       3, 0, 2, 1, 3, 1, 3, 1, 3, 0, 2, 3, 0, 1, 2, 3, 0, 3, 2, 1, 3, 0,\n",
       "       1, 2, 3, 0, 0, 3, 3, 2, 0, 2, 3, 2, 2, 1, 0, 2, 1, 1, 2, 2, 0, 0,\n",
       "       1, 0, 2, 3, 0, 1, 2, 3, 0, 1, 3, 0, 3, 1, 2, 2, 0, 3, 1, 1, 3, 1,\n",
       "       1, 0, 2, 1, 1, 2, 1, 0, 3, 0, 3, 1, 1, 1, 2, 3, 1, 0, 2, 0, 0, 2,\n",
       "       2, 0, 3, 2, 3, 1, 3, 3, 2, 3, 2, 1, 1, 2, 3, 1, 2, 3, 0, 2, 0, 3,\n",
       "       2, 2, 2, 0, 0, 3, 3, 0, 0, 2, 2, 2, 1, 2, 0, 1, 3, 3, 0, 2, 3, 3,\n",
       "       0, 0, 1, 1, 1, 3, 1, 2, 1, 1, 3, 2, 1, 0, 2, 0, 3, 2, 2, 1, 1, 0,\n",
       "       1, 3, 1, 0, 2, 0, 2, 2, 1, 3, 1, 3, 2, 0, 2, 3, 3, 2, 0, 2, 1, 1,\n",
       "       0, 0, 2, 2, 1, 3, 3, 2, 3, 3, 0, 2, 1, 3, 2, 0, 0, 0, 0, 2, 1, 1,\n",
       "       3, 3, 2, 3, 1, 0, 3, 0, 1, 1, 0, 2, 0, 1, 3, 3, 2, 2, 0, 2, 1, 1,\n",
       "       0, 1, 3, 2, 0, 1, 1, 0, 3, 3, 0, 0, 1, 1, 3, 0, 1, 0, 0, 2, 2, 2,\n",
       "       1, 2, 2, 1, 3, 2, 1, 1, 0, 0, 3, 1, 2, 3, 0, 0, 3, 1, 3, 2, 1, 2,\n",
       "       0, 2, 1, 2, 2, 1, 1, 2, 1, 0, 2, 3, 0, 3, 3, 1, 3, 0, 0, 0, 2, 2,\n",
       "       2, 1, 0, 2, 1, 2, 0, 3, 0, 0, 1, 1, 2, 0, 3, 1], dtype=int64)"
      ]
     },
     "execution_count": 43,
     "metadata": {},
     "output_type": "execute_result"
    }
   ],
   "source": [
    "ypred3 = m2_svc.predict(x_ts)\n",
    "ypred3"
   ]
  },
  {
   "cell_type": "code",
   "execution_count": 45,
   "id": "8ce70883",
   "metadata": {},
   "outputs": [
    {
     "name": "stdout",
     "output_type": "stream",
     "text": [
      "[[127   5   0   0]\n",
      " [  0 121   5   0]\n",
      " [  0   5 118   5]\n",
      " [  0   0   3 111]]\n",
      "              precision    recall  f1-score   support\n",
      "\n",
      "           0       1.00      0.96      0.98       132\n",
      "           1       0.92      0.96      0.94       126\n",
      "           2       0.94      0.92      0.93       128\n",
      "           3       0.96      0.97      0.97       114\n",
      "\n",
      "    accuracy                           0.95       500\n",
      "   macro avg       0.95      0.95      0.95       500\n",
      "weighted avg       0.95      0.95      0.95       500\n",
      "\n"
     ]
    }
   ],
   "source": [
    "from sklearn.metrics import confusion_matrix , classification_report\n",
    "c_matrix_svc1 = confusion_matrix(ypred3,y_ts)\n",
    "c_report_svc1 = classification_report(ypred3,y_ts)\n",
    "print(c_matrix_svc1)\n",
    "print(c_report_svc1)"
   ]
  },
  {
   "cell_type": "markdown",
   "id": "4192fb93",
   "metadata": {},
   "source": [
    "---->>> Looking at all the models we can conclude that the SVM model is giving us the best accuracy  <<<-------"
   ]
  },
  {
   "cell_type": "code",
   "execution_count": null,
   "id": "58c6eaaf",
   "metadata": {},
   "outputs": [],
   "source": []
  }
 ],
 "metadata": {
  "kernelspec": {
   "display_name": "Python 3 (ipykernel)",
   "language": "python",
   "name": "python3"
  },
  "language_info": {
   "codemirror_mode": {
    "name": "ipython",
    "version": 3
   },
   "file_extension": ".py",
   "mimetype": "text/x-python",
   "name": "python",
   "nbconvert_exporter": "python",
   "pygments_lexer": "ipython3",
   "version": "3.9.12"
  }
 },
 "nbformat": 4,
 "nbformat_minor": 5
}
